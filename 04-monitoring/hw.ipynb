{
 "cells": [
  {
   "cell_type": "code",
   "execution_count": 1,
   "metadata": {},
   "outputs": [
    {
     "data": {
      "text/html": [
       "<div>\n",
       "<style scoped>\n",
       "    .dataframe tbody tr th:only-of-type {\n",
       "        vertical-align: middle;\n",
       "    }\n",
       "\n",
       "    .dataframe tbody tr th {\n",
       "        vertical-align: top;\n",
       "    }\n",
       "\n",
       "    .dataframe thead th {\n",
       "        text-align: right;\n",
       "    }\n",
       "</style>\n",
       "<table border=\"1\" class=\"dataframe\">\n",
       "  <thead>\n",
       "    <tr style=\"text-align: right;\">\n",
       "      <th></th>\n",
       "      <th>answer_llm</th>\n",
       "      <th>answer_orig</th>\n",
       "      <th>document</th>\n",
       "      <th>question</th>\n",
       "      <th>course</th>\n",
       "    </tr>\n",
       "  </thead>\n",
       "  <tbody>\n",
       "    <tr>\n",
       "      <th>0</th>\n",
       "      <td>You can sign up for the course by visiting the...</td>\n",
       "      <td>Machine Learning Zoomcamp FAQ\\nThe purpose of ...</td>\n",
       "      <td>0227b872</td>\n",
       "      <td>Where can I sign up for the course?</td>\n",
       "      <td>machine-learning-zoomcamp</td>\n",
       "    </tr>\n",
       "    <tr>\n",
       "      <th>1</th>\n",
       "      <td>You can sign up using the link provided in the...</td>\n",
       "      <td>Machine Learning Zoomcamp FAQ\\nThe purpose of ...</td>\n",
       "      <td>0227b872</td>\n",
       "      <td>Can you provide a link to sign up?</td>\n",
       "      <td>machine-learning-zoomcamp</td>\n",
       "    </tr>\n",
       "    <tr>\n",
       "      <th>2</th>\n",
       "      <td>Yes, there is an FAQ for the Machine Learning ...</td>\n",
       "      <td>Machine Learning Zoomcamp FAQ\\nThe purpose of ...</td>\n",
       "      <td>0227b872</td>\n",
       "      <td>Is there an FAQ for this Machine Learning course?</td>\n",
       "      <td>machine-learning-zoomcamp</td>\n",
       "    </tr>\n",
       "    <tr>\n",
       "      <th>3</th>\n",
       "      <td>The context does not provide any specific info...</td>\n",
       "      <td>Machine Learning Zoomcamp FAQ\\nThe purpose of ...</td>\n",
       "      <td>0227b872</td>\n",
       "      <td>Does this course have a GitHub repository for ...</td>\n",
       "      <td>machine-learning-zoomcamp</td>\n",
       "    </tr>\n",
       "    <tr>\n",
       "      <th>4</th>\n",
       "      <td>To structure your questions and answers for th...</td>\n",
       "      <td>Machine Learning Zoomcamp FAQ\\nThe purpose of ...</td>\n",
       "      <td>0227b872</td>\n",
       "      <td>How can I structure my questions and answers f...</td>\n",
       "      <td>machine-learning-zoomcamp</td>\n",
       "    </tr>\n",
       "  </tbody>\n",
       "</table>\n",
       "</div>"
      ],
      "text/plain": [
       "                                          answer_llm  \\\n",
       "0  You can sign up for the course by visiting the...   \n",
       "1  You can sign up using the link provided in the...   \n",
       "2  Yes, there is an FAQ for the Machine Learning ...   \n",
       "3  The context does not provide any specific info...   \n",
       "4  To structure your questions and answers for th...   \n",
       "\n",
       "                                         answer_orig  document  \\\n",
       "0  Machine Learning Zoomcamp FAQ\\nThe purpose of ...  0227b872   \n",
       "1  Machine Learning Zoomcamp FAQ\\nThe purpose of ...  0227b872   \n",
       "2  Machine Learning Zoomcamp FAQ\\nThe purpose of ...  0227b872   \n",
       "3  Machine Learning Zoomcamp FAQ\\nThe purpose of ...  0227b872   \n",
       "4  Machine Learning Zoomcamp FAQ\\nThe purpose of ...  0227b872   \n",
       "\n",
       "                                            question  \\\n",
       "0                Where can I sign up for the course?   \n",
       "1                 Can you provide a link to sign up?   \n",
       "2  Is there an FAQ for this Machine Learning course?   \n",
       "3  Does this course have a GitHub repository for ...   \n",
       "4  How can I structure my questions and answers f...   \n",
       "\n",
       "                      course  \n",
       "0  machine-learning-zoomcamp  \n",
       "1  machine-learning-zoomcamp  \n",
       "2  machine-learning-zoomcamp  \n",
       "3  machine-learning-zoomcamp  \n",
       "4  machine-learning-zoomcamp  "
      ]
     },
     "execution_count": 1,
     "metadata": {},
     "output_type": "execute_result"
    }
   ],
   "source": [
    "import pandas as pd\n",
    "\n",
    "github_url = 'https://github.com/DataTalksClub/llm-zoomcamp/blob/main/04-monitoring/data/results-gpt4o-mini.csv'\n",
    "\n",
    "df = pd.read_csv(f'{github_url}?raw=1')\n",
    "\n",
    "df_300 = df.iloc[:300]\n",
    "\n",
    "df.head(5)"
   ]
  },
  {
   "cell_type": "code",
   "execution_count": 2,
   "metadata": {},
   "outputs": [
    {
     "name": "stdout",
     "output_type": "stream",
     "text": [
      "The first value of the resulting vector is: -0.42244658\n"
     ]
    }
   ],
   "source": [
    "from sentence_transformers import SentenceTransformer\n",
    "\n",
    "model_name = 'multi-qa-mpnet-base-dot-v1'\n",
    "embedding_model = SentenceTransformer(model_name)\n",
    "\n",
    "answer_llm = df_300.iloc[0].answer_llm\n",
    "\n",
    "embedding_vector = embedding_model.encode(answer_llm)\n",
    "\n",
    "first_value = embedding_vector[0]\n",
    "\n",
    "print(\"The first value of the resulting vector is:\", first_value)"
   ]
  },
  {
   "cell_type": "code",
   "execution_count": 4,
   "metadata": {},
   "outputs": [
    {
     "name": "stdout",
     "output_type": "stream",
     "text": [
      "The 75th percentile of the scores is: 31.674312114715576\n"
     ]
    }
   ],
   "source": [
    "\n",
    "import numpy as np\n",
    "\n",
    "evaluations = []\n",
    "\n",
    "for _, row in df_300.iterrows():\n",
    "    answer_llm = row['answer_llm']\n",
    "    answer_orig = row['answer_orig']\n",
    "    \n",
    "    embedding_llm = embedding_model.encode(answer_llm)\n",
    "    embedding_orig = embedding_model.encode(answer_orig)\n",
    "    \n",
    "    score = np.dot(embedding_llm, embedding_orig)\n",
    "    \n",
    "    evaluations.append(score)\n",
    "\n",
    "percentile_75 = np.percentile(evaluations, 75)\n",
    "\n",
    "print(\"The 75th percentile of the scores is:\", percentile_75)"
   ]
  },
  {
   "cell_type": "code",
   "execution_count": 5,
   "metadata": {},
   "outputs": [
    {
     "name": "stdout",
     "output_type": "stream",
     "text": [
      "The 75th percentile of the scores is: 0.8362347930669785\n"
     ]
    }
   ],
   "source": [
    "def normalize_vector(v):\n",
    "    norm = np.sqrt((v * v).sum())\n",
    "    return 0 if norm==0 else (v / norm)\n",
    "\n",
    "evaluations = []\n",
    "\n",
    "for _, row in df_300.iterrows():\n",
    "    answer_llm = row['answer_llm']\n",
    "    answer_orig = row['answer_orig']\n",
    "    \n",
    "    embedding_llm = normalize_vector(embedding_model.encode(answer_llm))\n",
    "    embedding_orig= normalize_vector(embedding_model.encode(answer_orig))\n",
    "    \n",
    "    score = np.dot(embedding_llm, embedding_orig)\n",
    "    \n",
    "    evaluations.append(score)\n",
    "\n",
    "percentile_75 = np.percentile(evaluations, 75)\n",
    "\n",
    "print(\"The 75th percentile of the scores is:\", percentile_75)"
   ]
  },
  {
   "cell_type": "code",
   "execution_count": 8,
   "metadata": {},
   "outputs": [
    {
     "name": "stdout",
     "output_type": "stream",
     "text": [
      "The F1 score for ROUGE-1 is: 0.45454544954545456\n"
     ]
    }
   ],
   "source": [
    "from rouge import Rouge\n",
    "\n",
    "rouge_scorer = Rouge()\n",
    "\n",
    "r = df_300[df_300['document'] == '5170565b'].iloc[0]\n",
    "\n",
    "scores = rouge_scorer.get_scores(r['answer_llm'], r['answer_orig'])[0]\n",
    "\n",
    "rouge_1_f1_score = scores['rouge-1']['f']\n",
    "\n",
    "print(\"The F1 score for ROUGE-1 is:\", rouge_1_f1_score)"
   ]
  },
  {
   "cell_type": "code",
   "execution_count": 9,
   "metadata": {},
   "outputs": [
    {
     "name": "stdout",
     "output_type": "stream",
     "text": [
      "The average F1 score between ROUGE-1, ROUGE-2, and ROUGE-L is: 0.35490034990035496\n"
     ]
    }
   ],
   "source": [
    "from rouge import Rouge\n",
    "\n",
    "rouge_scorer = Rouge()\n",
    "\n",
    "r = df_300[df_300['document'] == '5170565b'].iloc[0]\n",
    "\n",
    "scores = rouge_scorer.get_scores(r['answer_llm'], r['answer_orig'])[0]\n",
    "\n",
    "rouge_1_f1 = scores['rouge-1']['f']\n",
    "rouge_2_f1 = scores['rouge-2']['f']\n",
    "rouge_l_f1 = scores['rouge-l']['f']\n",
    "\n",
    "average_f1_score = (rouge_1_f1 + rouge_2_f1 + rouge_l_f1) / 3\n",
    "\n",
    "print(\"The average F1 score between ROUGE-1, ROUGE-2, and ROUGE-L is:\", average_f1_score)\n"
   ]
  },
  {
   "cell_type": "code",
   "execution_count": 11,
   "metadata": {},
   "outputs": [
    {
     "name": "stdout",
     "output_type": "stream",
     "text": [
      "The average ROUGE-2 F1 score across all records is: 0.20696501983423318\n"
     ]
    }
   ],
   "source": [
    "import pandas as pd\n",
    "from rouge import Rouge\n",
    "\n",
    "rouge_scorer = Rouge()\n",
    "\n",
    "scores_list = []\n",
    "\n",
    "for _, row in df_300.iterrows():\n",
    "    answer_llm = row['answer_llm']\n",
    "    answer_orig = row['answer_orig']\n",
    "    \n",
    "    scores = rouge_scorer.get_scores(answer_llm, answer_orig)[0]\n",
    "\n",
    "    rouge_1_f1 = scores['rouge-1']['f']\n",
    "    rouge_2_f1 = scores['rouge-2']['f']\n",
    "    rouge_l_f1 = scores['rouge-l']['f']\n",
    "    \n",
    "    scores_list.append({\n",
    "        'document': row['document'],\n",
    "        'rouge_1_f1': rouge_1_f1,\n",
    "        'rouge_2_f1': rouge_2_f1,\n",
    "        'rouge_l_f1': rouge_l_f1\n",
    "    })\n",
    "\n",
    "scores_df = pd.DataFrame(scores_list)\n",
    "\n",
    "average_rouge_2_f1 = scores_df['rouge_2_f1'].mean()\n",
    "\n",
    "print(\"The average ROUGE-2 F1 score across all records is:\", average_rouge_2_f1)"
   ]
  }
 ],
 "metadata": {
  "kernelspec": {
   "display_name": "llm",
   "language": "python",
   "name": "python3"
  },
  "language_info": {
   "codemirror_mode": {
    "name": "ipython",
    "version": 3
   },
   "file_extension": ".py",
   "mimetype": "text/x-python",
   "name": "python",
   "nbconvert_exporter": "python",
   "pygments_lexer": "ipython3",
   "version": "3.11.7"
  }
 },
 "nbformat": 4,
 "nbformat_minor": 2
}
